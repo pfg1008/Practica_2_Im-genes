{
 "cells": [
  {
   "cell_type": "markdown",
   "metadata": {},
   "source": [
    "<img style=\"float:left\" width=\"70%\" src=\"pics/escudo_COLOR_1L_DCHA.png\">\n",
    "<img style=\"float:right\" width=\"15%\" src=\"pics/PythonLogo.svg\">\n",
    "<br style=\"clear:both;\">\n",
    "\n",
    "<h2 style=\"display: inline-block; padding: 4mm; padding-left: 2em; background-color: navy; line-height: 1.3em; color: white; border-radius: 10px;\">Histogramas</h2>\n",
    "\n",
    "\n",
    "## PARTE II: Transformaciones no lineales. Transformación *potencial*\n",
    "\n",
    "## Docente\n",
    "\n",
    "#### Autor: Pedro Latorre Carmona\n",
    "\n",
    "Curso 2025-2026\n",
    "\n",
    "Versión 1.0\n",
    "\n",
    "---"
   ]
  },
  {
   "cell_type": "markdown",
   "metadata": {},
   "source": [
    "## Enunciado de la práctica\n",
    "\n",
    "En esta práctica, vamos a ver el efecto que tiene una transformación de tipo **potencial**, y, por tanto, de tipo no lineal, en una imagen en escala de grises. Las transformaciónes potenciales son del tipo:\n",
    "\n",
    "$p^{'}(x,y) = C\\times[p(x,y)]^{\\gamma}$\n",
    "\n",
    "<img src=\"pics/PotentialTransform.png\">"
   ]
  },
  {
   "cell_type": "markdown",
   "metadata": {},
   "source": [
    "## Objetivos\n",
    "\n",
    "El objetivo de la práctica es:\n",
    "\n",
    "1. Analizar/Entender la distribución en escala de grises de las imágenes **ImageMicroscopy-I.png** e **ImageMicroscopy-II.png**\n",
    "\n",
    "\n",
    "2. Ver cuál será la forma de la mejor transformación potencial a aplciar a cada una de ellas.\n",
    "\n",
    "\n",
    "3. Aplicarlas y ver el resultado.\n",
    "\n",
    "\n",
    "4. Analizar y concluir.\n",
    "\n",
    "no hace falta pedir al usuario el valo de gamma para calcular c pero si que hace falta comprobar que estamos haceindolo bien\n",
    "\n",
    "comprobar la representacion gráfica de la curva exponencial\n",
    "\n",
    "reflexionar porque aplicamos una transformacion u otra"
   ]
  }
 ],
 "metadata": {
  "kernelspec": {
   "display_name": "Python 3",
   "language": "python",
   "name": "python3"
  },
  "language_info": {
   "codemirror_mode": {
    "name": "ipython",
    "version": 3
   },
   "file_extension": ".py",
   "mimetype": "text/x-python",
   "name": "python",
   "nbconvert_exporter": "python",
   "pygments_lexer": "ipython3",
   "version": "3.8.3"
  }
 },
 "nbformat": 4,
 "nbformat_minor": 5
}
